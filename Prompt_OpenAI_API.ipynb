{
  "nbformat": 4,
  "nbformat_minor": 0,
  "metadata": {
    "colab": {
      "provenance": []
    },
    "kernelspec": {
      "name": "python3",
      "display_name": "Python 3"
    },
    "language_info": {
      "name": "python"
    }
  },
  "cells": [
    {
      "cell_type": "markdown",
      "source": [
        "**OpenAI LLM**\n",
        "\n",
        "The idea is to gget hands on in using Large Language models and have our own chain of prompts"
      ],
      "metadata": {
        "id": "XfR-ogIOr603"
      }
    },
    {
      "cell_type": "markdown",
      "source": [
        "# Imports"
      ],
      "metadata": {
        "id": "GYzKJO1zt0xR"
      }
    },
    {
      "cell_type": "code",
      "source": [
        "import os"
      ],
      "metadata": {
        "id": "SuaqBXVNt5UB"
      },
      "execution_count": 1,
      "outputs": []
    },
    {
      "cell_type": "code",
      "source": [
        "\n",
        "OPENAI_API_KEY = '****************qmpq2T3BlbkF**********************' # masked for security but you can generate again from openAI keys\n",
        "\n",
        "os.environ['OPENAI_API_KEY'] = OPENAI_API_KEY\n"
      ],
      "metadata": {
        "id": "TTfhp0FMsRIh"
      },
      "execution_count": 6,
      "outputs": []
    },
    {
      "cell_type": "code",
      "source": [
        "!pip install langchain"
      ],
      "metadata": {
        "colab": {
          "base_uri": "https://localhost:8080/"
        },
        "id": "5EugE8dmuPuj",
        "outputId": "6fdb8616-0158-4fbf-c20f-d727ff498f5a"
      },
      "execution_count": 3,
      "outputs": [
        {
          "output_type": "stream",
          "name": "stdout",
          "text": [
            "Collecting langchain\n",
            "  Downloading langchain-0.0.220-py3-none-any.whl (1.2 MB)\n",
            "\u001b[?25l     \u001b[90m━━━━━━━━━━━━━━━━━━━━━━━━━━━━━━━━━━━━━━━━\u001b[0m \u001b[32m0.0/1.2 MB\u001b[0m \u001b[31m?\u001b[0m eta \u001b[36m-:--:--\u001b[0m\r\u001b[2K     \u001b[91m━━━━━━━━━━━━━━━\u001b[0m\u001b[90m╺\u001b[0m\u001b[90m━━━━━━━━━━━━━━━━━━━━━━━━\u001b[0m \u001b[32m0.4/1.2 MB\u001b[0m \u001b[31m13.8 MB/s\u001b[0m eta \u001b[36m0:00:01\u001b[0m\r\u001b[2K     \u001b[90m━━━━━━━━━━━━━━━━━━━━━━━━━━━━━━━━━━━━━━━━\u001b[0m \u001b[32m1.2/1.2 MB\u001b[0m \u001b[31m19.1 MB/s\u001b[0m eta \u001b[36m0:00:00\u001b[0m\n",
            "\u001b[?25hRequirement already satisfied: PyYAML>=5.4.1 in /usr/local/lib/python3.10/dist-packages (from langchain) (6.0)\n",
            "Requirement already satisfied: SQLAlchemy<3,>=1.4 in /usr/local/lib/python3.10/dist-packages (from langchain) (2.0.16)\n",
            "Requirement already satisfied: aiohttp<4.0.0,>=3.8.3 in /usr/local/lib/python3.10/dist-packages (from langchain) (3.8.4)\n",
            "Requirement already satisfied: async-timeout<5.0.0,>=4.0.0 in /usr/local/lib/python3.10/dist-packages (from langchain) (4.0.2)\n",
            "Collecting dataclasses-json<0.6.0,>=0.5.7 (from langchain)\n",
            "  Downloading dataclasses_json-0.5.9-py3-none-any.whl (26 kB)\n",
            "Collecting langchainplus-sdk>=0.0.17 (from langchain)\n",
            "  Downloading langchainplus_sdk-0.0.19-py3-none-any.whl (25 kB)\n",
            "Requirement already satisfied: numexpr<3.0.0,>=2.8.4 in /usr/local/lib/python3.10/dist-packages (from langchain) (2.8.4)\n",
            "Requirement already satisfied: numpy<2,>=1 in /usr/local/lib/python3.10/dist-packages (from langchain) (1.22.4)\n",
            "Collecting openapi-schema-pydantic<2.0,>=1.2 (from langchain)\n",
            "  Downloading openapi_schema_pydantic-1.2.4-py3-none-any.whl (90 kB)\n",
            "\u001b[2K     \u001b[90m━━━━━━━━━━━━━━━━━━━━━━━━━━━━━━━━━━━━━━━━\u001b[0m \u001b[32m90.0/90.0 kB\u001b[0m \u001b[31m9.5 MB/s\u001b[0m eta \u001b[36m0:00:00\u001b[0m\n",
            "\u001b[?25hRequirement already satisfied: pydantic<2,>=1 in /usr/local/lib/python3.10/dist-packages (from langchain) (1.10.9)\n",
            "Requirement already satisfied: requests<3,>=2 in /usr/local/lib/python3.10/dist-packages (from langchain) (2.27.1)\n",
            "Requirement already satisfied: tenacity<9.0.0,>=8.1.0 in /usr/local/lib/python3.10/dist-packages (from langchain) (8.2.2)\n",
            "Requirement already satisfied: attrs>=17.3.0 in /usr/local/lib/python3.10/dist-packages (from aiohttp<4.0.0,>=3.8.3->langchain) (23.1.0)\n",
            "Requirement already satisfied: charset-normalizer<4.0,>=2.0 in /usr/local/lib/python3.10/dist-packages (from aiohttp<4.0.0,>=3.8.3->langchain) (2.0.12)\n",
            "Requirement already satisfied: multidict<7.0,>=4.5 in /usr/local/lib/python3.10/dist-packages (from aiohttp<4.0.0,>=3.8.3->langchain) (6.0.4)\n",
            "Requirement already satisfied: yarl<2.0,>=1.0 in /usr/local/lib/python3.10/dist-packages (from aiohttp<4.0.0,>=3.8.3->langchain) (1.9.2)\n",
            "Requirement already satisfied: frozenlist>=1.1.1 in /usr/local/lib/python3.10/dist-packages (from aiohttp<4.0.0,>=3.8.3->langchain) (1.3.3)\n",
            "Requirement already satisfied: aiosignal>=1.1.2 in /usr/local/lib/python3.10/dist-packages (from aiohttp<4.0.0,>=3.8.3->langchain) (1.3.1)\n",
            "Collecting marshmallow<4.0.0,>=3.3.0 (from dataclasses-json<0.6.0,>=0.5.7->langchain)\n",
            "  Downloading marshmallow-3.19.0-py3-none-any.whl (49 kB)\n",
            "\u001b[2K     \u001b[90m━━━━━━━━━━━━━━━━━━━━━━━━━━━━━━━━━━━━━━━━\u001b[0m \u001b[32m49.1/49.1 kB\u001b[0m \u001b[31m5.0 MB/s\u001b[0m eta \u001b[36m0:00:00\u001b[0m\n",
            "\u001b[?25hCollecting marshmallow-enum<2.0.0,>=1.5.1 (from dataclasses-json<0.6.0,>=0.5.7->langchain)\n",
            "  Downloading marshmallow_enum-1.5.1-py2.py3-none-any.whl (4.2 kB)\n",
            "Collecting typing-inspect>=0.4.0 (from dataclasses-json<0.6.0,>=0.5.7->langchain)\n",
            "  Downloading typing_inspect-0.9.0-py3-none-any.whl (8.8 kB)\n",
            "Requirement already satisfied: typing-extensions>=4.2.0 in /usr/local/lib/python3.10/dist-packages (from pydantic<2,>=1->langchain) (4.6.3)\n",
            "Requirement already satisfied: urllib3<1.27,>=1.21.1 in /usr/local/lib/python3.10/dist-packages (from requests<3,>=2->langchain) (1.26.16)\n",
            "Requirement already satisfied: certifi>=2017.4.17 in /usr/local/lib/python3.10/dist-packages (from requests<3,>=2->langchain) (2023.5.7)\n",
            "Requirement already satisfied: idna<4,>=2.5 in /usr/local/lib/python3.10/dist-packages (from requests<3,>=2->langchain) (3.4)\n",
            "Requirement already satisfied: greenlet!=0.4.17 in /usr/local/lib/python3.10/dist-packages (from SQLAlchemy<3,>=1.4->langchain) (2.0.2)\n",
            "Requirement already satisfied: packaging>=17.0 in /usr/local/lib/python3.10/dist-packages (from marshmallow<4.0.0,>=3.3.0->dataclasses-json<0.6.0,>=0.5.7->langchain) (23.1)\n",
            "Collecting mypy-extensions>=0.3.0 (from typing-inspect>=0.4.0->dataclasses-json<0.6.0,>=0.5.7->langchain)\n",
            "  Downloading mypy_extensions-1.0.0-py3-none-any.whl (4.7 kB)\n",
            "Installing collected packages: mypy-extensions, marshmallow, typing-inspect, openapi-schema-pydantic, marshmallow-enum, langchainplus-sdk, dataclasses-json, langchain\n",
            "Successfully installed dataclasses-json-0.5.9 langchain-0.0.220 langchainplus-sdk-0.0.19 marshmallow-3.19.0 marshmallow-enum-1.5.1 mypy-extensions-1.0.0 openapi-schema-pydantic-1.2.4 typing-inspect-0.9.0\n"
          ]
        }
      ]
    },
    {
      "cell_type": "code",
      "source": [
        "!pip install openai"
      ],
      "metadata": {
        "colab": {
          "base_uri": "https://localhost:8080/"
        },
        "id": "PRAAmwPyvyGC",
        "outputId": "259a620b-4dc3-4fca-948c-67985b52440f"
      },
      "execution_count": 8,
      "outputs": [
        {
          "output_type": "stream",
          "name": "stdout",
          "text": [
            "Collecting openai\n",
            "  Downloading openai-0.27.8-py3-none-any.whl (73 kB)\n",
            "\u001b[?25l     \u001b[90m━━━━━━━━━━━━━━━━━━━━━━━━━━━━━━━━━━━━━━━━\u001b[0m \u001b[32m0.0/73.6 kB\u001b[0m \u001b[31m?\u001b[0m eta \u001b[36m-:--:--\u001b[0m\r\u001b[2K     \u001b[90m━━━━━━━━━━━━━━━━━━━━━━━━━━━━━━━━━━━━━━━━\u001b[0m \u001b[32m73.6/73.6 kB\u001b[0m \u001b[31m3.4 MB/s\u001b[0m eta \u001b[36m0:00:00\u001b[0m\n",
            "\u001b[?25hRequirement already satisfied: requests>=2.20 in /usr/local/lib/python3.10/dist-packages (from openai) (2.27.1)\n",
            "Requirement already satisfied: tqdm in /usr/local/lib/python3.10/dist-packages (from openai) (4.65.0)\n",
            "Requirement already satisfied: aiohttp in /usr/local/lib/python3.10/dist-packages (from openai) (3.8.4)\n",
            "Requirement already satisfied: urllib3<1.27,>=1.21.1 in /usr/local/lib/python3.10/dist-packages (from requests>=2.20->openai) (1.26.16)\n",
            "Requirement already satisfied: certifi>=2017.4.17 in /usr/local/lib/python3.10/dist-packages (from requests>=2.20->openai) (2023.5.7)\n",
            "Requirement already satisfied: charset-normalizer~=2.0.0 in /usr/local/lib/python3.10/dist-packages (from requests>=2.20->openai) (2.0.12)\n",
            "Requirement already satisfied: idna<4,>=2.5 in /usr/local/lib/python3.10/dist-packages (from requests>=2.20->openai) (3.4)\n",
            "Requirement already satisfied: attrs>=17.3.0 in /usr/local/lib/python3.10/dist-packages (from aiohttp->openai) (23.1.0)\n",
            "Requirement already satisfied: multidict<7.0,>=4.5 in /usr/local/lib/python3.10/dist-packages (from aiohttp->openai) (6.0.4)\n",
            "Requirement already satisfied: async-timeout<5.0,>=4.0.0a3 in /usr/local/lib/python3.10/dist-packages (from aiohttp->openai) (4.0.2)\n",
            "Requirement already satisfied: yarl<2.0,>=1.0 in /usr/local/lib/python3.10/dist-packages (from aiohttp->openai) (1.9.2)\n",
            "Requirement already satisfied: frozenlist>=1.1.1 in /usr/local/lib/python3.10/dist-packages (from aiohttp->openai) (1.3.3)\n",
            "Requirement already satisfied: aiosignal>=1.1.2 in /usr/local/lib/python3.10/dist-packages (from aiohttp->openai) (1.3.1)\n",
            "Installing collected packages: openai\n",
            "Successfully installed openai-0.27.8\n"
          ]
        }
      ]
    },
    {
      "cell_type": "code",
      "source": [
        "from langchain.llms import OpenAI\n",
        "\n",
        "llm = OpenAI(temperature=0.6)\n",
        "\n",
        "name = llm(\"I want to open a restaurant in India, please sugggest some good name for this\")\n",
        "\n",
        "name"
      ],
      "metadata": {
        "colab": {
          "base_uri": "https://localhost:8080/",
          "height": 53
        },
        "id": "RbAdnbbTuXq4",
        "outputId": "0eb5355b-048d-427b-de7a-0dff5dda9cd1"
      },
      "execution_count": 10,
      "outputs": [
        {
          "output_type": "execute_result",
          "data": {
            "text/plain": [
              "'\\n\\n1. Taste of India \\n2. Curry Kitchen \\n3. Spice of Life \\n4. Masala Delight \\n5. Biryani Bazaar \\n6. Tandoori Fusion \\n7. Chaat Cafe \\n8. Dum Biryani Hut \\n9. Kebab Corner \\n10. Boti Grill'"
            ],
            "application/vnd.google.colaboratory.intrinsic+json": {
              "type": "string"
            }
          },
          "metadata": {},
          "execution_count": 10
        }
      ]
    },
    {
      "cell_type": "code",
      "source": [
        "# Lets use prompts\n",
        "\n",
        "from langchain.prompts import PromptTemplate\n",
        "\n",
        "prompt_template_name = PromptTemplate(\n",
        "    input_variables=['country'],\n",
        "    template=\"I want to open a restaurant in {country}, please sugggest some good name for this\"\n",
        ")\n",
        "\n",
        "prompt_template_name.format(country=\"USA\")"
      ],
      "metadata": {
        "colab": {
          "base_uri": "https://localhost:8080/",
          "height": 35
        },
        "id": "L1WbWzjbvJl6",
        "outputId": "24e923f7-b9f4-4d40-9a2a-744b9c6ee09a"
      },
      "execution_count": 11,
      "outputs": [
        {
          "output_type": "execute_result",
          "data": {
            "text/plain": [
              "'I want to open a restaurant in USA, please sugggest some good name for this'"
            ],
            "application/vnd.google.colaboratory.intrinsic+json": {
              "type": "string"
            }
          },
          "metadata": {},
          "execution_count": 11
        }
      ]
    },
    {
      "cell_type": "code",
      "source": [
        "from langchain.chains import LLMChain\n",
        "\n",
        "chain = LLMChain(llm=llm, prompt=prompt_template_name)\n",
        "\n",
        "chain.run(\"Andhra pradesh\")"
      ],
      "metadata": {
        "colab": {
          "base_uri": "https://localhost:8080/",
          "height": 53
        },
        "id": "frYAH4Ogwxze",
        "outputId": "c19d63cf-e99b-4fed-a6ed-67db604542a5"
      },
      "execution_count": 12,
      "outputs": [
        {
          "output_type": "execute_result",
          "data": {
            "text/plain": [
              "\"?\\n\\n1. Andhra Spice\\n2. Andhra Kitchen\\n3. Nizam's Delight\\n4. Sambar Treats\\n5. Biryani Bazaar\\n6. Udupi Delicacies\\n7. Chutney Dhaba\\n8. Curry Express\\n9. Spice Palace\\n10. Dosa Den\""
            ],
            "application/vnd.google.colaboratory.intrinsic+json": {
              "type": "string"
            }
          },
          "metadata": {},
          "execution_count": 12
        }
      ]
    },
    {
      "cell_type": "code",
      "source": [
        "# Now lets get some food items for the restaturant as well along with restaurant name\n",
        "\n",
        "\n",
        "# first prompt for getting restaurant name by passing the country\n",
        "restaurant_llm = OpenAI(temperature=0.7)\n",
        "\n",
        "prompt_name = PromptTemplate(\n",
        "    input_variables=[\"country\"],\n",
        "    template=\"I want to open a restaurant in {country}, please suggest a good name for this.\"\n",
        ")\n",
        "\n",
        "name_chain = LLMChain(llm=restaurant_llm, prompt=prompt_name)\n",
        "\n",
        "\n",
        "# Second prompt for getting some mouth watering dishes for the restaurant:)\n",
        "\n",
        "prompt_dishes = PromptTemplate(\n",
        "    input_variables=[\"restaurant_name\"],\n",
        "    template=\"Suggest some food items for {restaurant_name}. Return them as numbered list.\"\n",
        ")\n",
        "\n",
        "dishes_chain = LLMChain(llm=restaurant_llm, prompt=prompt_dishes)\n",
        "\n"
      ],
      "metadata": {
        "id": "tzRURqhjxbim"
      },
      "execution_count": 13,
      "outputs": []
    },
    {
      "cell_type": "code",
      "source": [
        "from langchain.chains import SimpleSequentialChain\n",
        "\n",
        "chain = SimpleSequentialChain(chains= [name_chain, dishes_chain])\n",
        "\n",
        "response = chain.run(\"Australia\")\n",
        "\n",
        "print(response)"
      ],
      "metadata": {
        "colab": {
          "base_uri": "https://localhost:8080/"
        },
        "id": "A7VU2lev0ky7",
        "outputId": "9a49e539-9199-4d7c-e8f9-cb98e753f015"
      },
      "execution_count": 14,
      "outputs": [
        {
          "output_type": "stream",
          "name": "stdout",
          "text": [
            "\n",
            "\n",
            "1. Grilled Kangaroo Steak\n",
            "2. Barramundi Fillets with Bush Tomato Relish\n",
            "3. Smoked Emu with Bush Pepper\n",
            "4. Boiled Damper Bread\n",
            "5. Roasted Billabong Goanna\n",
            "6. Bush Tomato Soup\n",
            "7. Roasted Wallaby with Bush Herbs\n",
            "8. Wattleseed Ice Cream\n",
            "9. Wattle Seed and Honey Pavlova\n",
            "10. Bush Lemon Tart\n"
          ]
        }
      ]
    },
    {
      "cell_type": "code",
      "source": [
        "# Where is my restaurant name?? ahh! looks like its only giving the end output\n",
        "\n",
        "# Lets have output_variables\n",
        "\n",
        "# first prompt for getting restaurant name by passing the country\n",
        "restaurant_llm = OpenAI(temperature=0.7)\n",
        "\n",
        "prompt_name = PromptTemplate(\n",
        "    input_variables=[\"country\"],\n",
        "    template=\"I want to open a restaurant in {country}, please suggest a good name for this.\",\n",
        ")\n",
        "\n",
        "name_chain = LLMChain(llm=restaurant_llm, prompt=prompt_name, output_key=\"restaurant_name\")\n",
        "\n",
        "\n",
        "# Second prompt for getting some mouth watering dishes for the restaurant:)\n",
        "\n",
        "prompt_dishes = PromptTemplate(\n",
        "    input_variables=[\"restaurant_name\"],\n",
        "    template=\"Suggest some food items for {restaurant_name}. Return them as numbered list.\"\n",
        ")\n",
        "\n",
        "dishes_chain = LLMChain(llm=restaurant_llm, prompt=prompt_dishes, output_key=\"menu_items\")\n",
        "\n",
        "\n",
        "from langchain.chains import SequentialChain\n",
        "\n",
        "rest_chain = SequentialChain(\n",
        "    chains=[name_chain, dishes_chain],\n",
        "    input_variables=[\"country\"],\n",
        "    output_variables=[\"restaurant_name\", \"menu_items\"]\n",
        ")\n",
        "\n"
      ],
      "metadata": {
        "id": "0kHQ0JOg06T4"
      },
      "execution_count": 19,
      "outputs": []
    },
    {
      "cell_type": "code",
      "source": [
        "rest_chain(\n",
        "    {\n",
        "        \"country\": \"USA\"\n",
        "    }\n",
        ")"
      ],
      "metadata": {
        "colab": {
          "base_uri": "https://localhost:8080/"
        },
        "id": "QuBy_FF32kLv",
        "outputId": "4bcc417d-dbf6-41bb-8de1-dac8b5665f2e"
      },
      "execution_count": 17,
      "outputs": [
        {
          "output_type": "execute_result",
          "data": {
            "text/plain": [
              "{'country': 'USA',\n",
              " 'restaurant_name': '\\n\\nBlue Plate Diner \\nThe Nook \\nThe Silver Spoon \\nThe Copper Kettle \\nThe Corner Kitchen \\nThe Spice Rack \\nThe Hearth \\nThe Hearthside \\nThe Hearth and Home \\nThe Village Table \\nThe Gourmet Galley \\nThe Homey Kitchen \\nThe Savory Pantry \\nThe Dining Room \\nThe Comfort Kitchen \\nThe Hearthside Café \\nThe Hearthside Bistro \\nThe Hearthside Inn \\nThe Hearthside Grill',\n",
              " 'menu_items': ' \\n\\n1. Grilled Cheeseburgers \\n2. French Toast \\n3. Pancakes \\n4. Omelets \\n5. Hash Browns \\n6. Biscuits and Gravy \\n7. Fried Chicken \\n8. Fish and Chips \\n9. Pot Roast \\n10. Mac and Cheese \\n11. Chili \\n12. Shepherd’s Pie \\n13. Meatloaf \\n14. Mashed Potatoes \\n15. Roasted Vegetables \\n16. Grilled Vegetables \\n17. Salads \\n18. Soups \\n19. Sandwiches \\n20. Wraps \\n21. Tacos \\n22. Pizza \\n23. Burgers \\n24. Fries \\n25. Onion Rings \\n26. Milkshakes \\n27. Sundaes \\n28. Cobbler \\n29. Apple Pie \\n30. Chocolate Cake'}"
            ]
          },
          "metadata": {},
          "execution_count": 17
        }
      ]
    },
    {
      "cell_type": "code",
      "source": [
        "rest_chain(\n",
        "    {\n",
        "        \"country\": \"Andhra pradesh\"\n",
        "    }\n",
        ")"
      ],
      "metadata": {
        "colab": {
          "base_uri": "https://localhost:8080/"
        },
        "id": "b5AX1o7D3AkY",
        "outputId": "d2f16df1-3eda-46a5-db2a-fcc40ce92c4d"
      },
      "execution_count": 20,
      "outputs": [
        {
          "output_type": "execute_result",
          "data": {
            "text/plain": [
              "{'country': 'Andhra pradesh',\n",
              " 'restaurant_name': '\\n\\n1. Spicy Bites \\n2. Hot and Spicy \\n3. Andhra Delight \\n4. Spice Express \\n5. Chilli Cravings \\n6. Mirchi Magic \\n7. Spicy Kitchen \\n8. Curry Kitchen \\n9. Andhra Grill \\n10. Masala Junction',\n",
              " 'menu_items': ''}"
            ]
          },
          "metadata": {},
          "execution_count": 20
        }
      ]
    },
    {
      "cell_type": "code",
      "source": [],
      "metadata": {
        "id": "OeTxEiVx3Ydd"
      },
      "execution_count": null,
      "outputs": []
    }
  ]
}